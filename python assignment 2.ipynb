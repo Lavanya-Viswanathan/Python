{
 "cells": [
  {
   "cell_type": "code",
   "execution_count": 2,
   "id": "8c197afb",
   "metadata": {},
   "outputs": [
    {
     "name": "stdout",
     "output_type": "stream",
     "text": [
      "18\n",
      "20\n"
     ]
    }
   ],
   "source": [
    "#perimeter of the rectangle is 2(l+b),area of the rectangle is(l*b)\n",
    "l=4\n",
    "b=5\n",
    "print(2*(l+b))\n",
    "print(l*b)"
   ]
  },
  {
   "cell_type": "code",
   "execution_count": 3,
   "id": "c2096844",
   "metadata": {},
   "outputs": [
    {
     "name": "stdout",
     "output_type": "stream",
     "text": [
      "perimeter is: 26\n",
      "area is: 35\n"
     ]
    }
   ],
   "source": [
    "#perimeter of a parallelogram 2(a+b), area=b*h\n",
    "a=8\n",
    "b=5\n",
    "h=7\n",
    "print(\"perimeter is:\",2*(a+b))\n",
    "print(\"area is:\",b*h)"
   ]
  },
  {
   "cell_type": "code",
   "execution_count": 4,
   "id": "b73a1762",
   "metadata": {},
   "outputs": [
    {
     "name": "stdout",
     "output_type": "stream",
     "text": [
      "perimeter is: 15\n",
      "area is: 15.0\n"
     ]
    }
   ],
   "source": [
    "#perimeter of a triangle is x*y*z, area is (1/2)*b*h\n",
    "x=4\n",
    "y=5\n",
    "z=6\n",
    "h=6\n",
    "print(\"perimeter is:\",(x+y+z))\n",
    "print(\"area is:\",(0.5*b*h))"
   ]
  },
  {
   "cell_type": "code",
   "execution_count": 7,
   "id": "bb21fab1",
   "metadata": {},
   "outputs": [
    {
     "name": "stdout",
     "output_type": "stream",
     "text": [
      "vowels:AEIOUaeiou\n",
      "letter:a\n",
      "the given letter is a vowel\n"
     ]
    }
   ],
   "source": [
    "#vowels or consonants\n",
    "vowels=str(input(\"vowels:\"))\n",
    "c=(input(\"letter:\"))\n",
    "if (c in vowels):\n",
    "    print(\"the given letter is a vowel\")\n",
    "else:\n",
    "     print(\"the given letter is consonant\")\n",
    "   "
   ]
  },
  {
   "cell_type": "code",
   "execution_count": 8,
   "id": "97b80792",
   "metadata": {},
   "outputs": [
    {
     "name": "stdout",
     "output_type": "stream",
     "text": [
      "vowels:aeiouAEIOU\n",
      "letter:R\n",
      "the given letter is consonant\n"
     ]
    }
   ],
   "source": [
    "vowels=str(input(\"vowels:\"))\n",
    "c=(input(\"letter:\"))\n",
    "if (c in vowels):\n",
    "    print(\"the given letter is a vowel\")\n",
    "else:\n",
    "     print(\"the given letter is consonant\")"
   ]
  },
  {
   "cell_type": "code",
   "execution_count": 10,
   "id": "0d07b148",
   "metadata": {},
   "outputs": [
    {
     "name": "stdout",
     "output_type": "stream",
     "text": [
      "length is:5\n",
      "breath is:5\n",
      "It is a square\n"
     ]
    }
   ],
   "source": [
    "#SQUARE OR RECTANGLE\n",
    "l=int(input(\"length is:\"))\n",
    "b=int(input(\"breath is:\"))\n",
    "if l==b:\n",
    "    print(\"It is a square\")\n",
    "else:\n",
    "    print(\"it is a rectangle\")"
   ]
  },
  {
   "cell_type": "code",
   "execution_count": 11,
   "id": "2d7c1184",
   "metadata": {},
   "outputs": [
    {
     "name": "stdout",
     "output_type": "stream",
     "text": [
      "length is:34\n",
      "breath is:23\n",
      "it is a rectangle\n"
     ]
    }
   ],
   "source": [
    "l=int(input(\"length is:\"))\n",
    "b=int(input(\"breath is:\"))\n",
    "if l==b:\n",
    "    print(\"It is a square\")\n",
    "else:\n",
    "    print(\"it is a rectangle\")"
   ]
  },
  {
   "cell_type": "code",
   "execution_count": null,
   "id": "38e70fe4",
   "metadata": {},
   "outputs": [],
   "source": []
  }
 ],
 "metadata": {
  "kernelspec": {
   "display_name": "Python 3 (ipykernel)",
   "language": "python",
   "name": "python3"
  },
  "language_info": {
   "codemirror_mode": {
    "name": "ipython",
    "version": 3
   },
   "file_extension": ".py",
   "mimetype": "text/x-python",
   "name": "python",
   "nbconvert_exporter": "python",
   "pygments_lexer": "ipython3",
   "version": "3.11.3"
  }
 },
 "nbformat": 4,
 "nbformat_minor": 5
}
